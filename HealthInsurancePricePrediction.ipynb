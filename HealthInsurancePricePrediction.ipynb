{
  "nbformat": 4,
  "nbformat_minor": 0,
  "metadata": {
    "colab": {
      "provenance": [],
      "toc_visible": true,
      "authorship_tag": "ABX9TyMjWXksclp0YiVYGU6NS8Hk",
      "include_colab_link": true
    },
    "kernelspec": {
      "name": "python3",
      "display_name": "Python 3"
    },
    "language_info": {
      "name": "python"
    }
  },
  "cells": [
    {
      "cell_type": "markdown",
      "metadata": {
        "id": "view-in-github",
        "colab_type": "text"
      },
      "source": [
        "<a href=\"https://colab.research.google.com/github/anjali-sharma-27/Health-Insurance-Price-Prediction/blob/main/HealthInsurancePricePrediction.ipynb\" target=\"_parent\"><img src=\"https://colab.research.google.com/assets/colab-badge.svg\" alt=\"Open In Colab\"/></a>"
      ]
    },
    {
      "cell_type": "code",
      "execution_count": null,
      "metadata": {
        "colab": {
          "base_uri": "https://localhost:8080/"
        },
        "id": "ZW9W74oLTmpI",
        "outputId": "0da21b3d-933d-4e90-917c-67aa4f8ff6fb"
      },
      "outputs": [
        {
          "output_type": "stream",
          "name": "stdout",
          "text": [
            "   age     sex     bmi  children smoker     region      charges\n",
            "0   19  female  27.900         0    yes  southwest  16884.92400\n",
            "1   18    male  33.770         1     no  southeast   1725.55230\n",
            "2   28    male  33.000         3     no  southeast   4449.46200\n",
            "3   33    male  22.705         0     no  northwest  21984.47061\n",
            "4   32    male  28.880         0     no  northwest   3866.85520\n",
            "(1338, 7)\n",
            "<class 'pandas.core.frame.DataFrame'>\n",
            "RangeIndex: 1338 entries, 0 to 1337\n",
            "Data columns (total 7 columns):\n",
            " #   Column    Non-Null Count  Dtype  \n",
            "---  ------    --------------  -----  \n",
            " 0   age       1338 non-null   int64  \n",
            " 1   sex       1338 non-null   object \n",
            " 2   bmi       1338 non-null   float64\n",
            " 3   children  1338 non-null   int64  \n",
            " 4   smoker    1338 non-null   object \n",
            " 5   region    1338 non-null   object \n",
            " 6   charges   1338 non-null   float64\n",
            "dtypes: float64(2), int64(2), object(3)\n",
            "memory usage: 73.3+ KB\n",
            "None\n",
            "age         0\n",
            "sex         0\n",
            "bmi         0\n",
            "children    0\n",
            "smoker      0\n",
            "region      0\n",
            "charges     0\n",
            "dtype: int64\n",
            "               age          bmi     children       charges\n",
            "count  1338.000000  1338.000000  1338.000000   1338.000000\n",
            "mean     39.207025    30.663397     1.094918  13270.422265\n",
            "std      14.049960     6.098187     1.205493  12110.011237\n",
            "min      18.000000    15.960000     0.000000   1121.873900\n",
            "25%      27.000000    26.296250     0.000000   4740.287150\n",
            "50%      39.000000    30.400000     1.000000   9382.033000\n",
            "75%      51.000000    34.693750     2.000000  16639.912515\n",
            "max      64.000000    53.130000     5.000000  63770.428010\n",
            "R² Score (Train): 0.751505643411174\n",
            "R² Score (Test): 0.7447273869684076\n",
            "Predicted Insurance Cost: USD 26133.958630837413\n",
            "✅ Model saved successfully as insurance_model.pkl\n"
          ]
        },
        {
          "output_type": "stream",
          "name": "stderr",
          "text": [
            "<ipython-input-2-362a1baf7841>:26: FutureWarning: Downcasting behavior in `replace` is deprecated and will be removed in a future version. To retain the old behavior, explicitly call `result.infer_objects(copy=False)`. To opt-in to the future behavior, set `pd.set_option('future.no_silent_downcasting', True)`\n",
            "  insurance_dataset.replace({'sex': {'male': 0, 'female': 1}}, inplace=True)\n",
            "<ipython-input-2-362a1baf7841>:27: FutureWarning: Downcasting behavior in `replace` is deprecated and will be removed in a future version. To retain the old behavior, explicitly call `result.infer_objects(copy=False)`. To opt-in to the future behavior, set `pd.set_option('future.no_silent_downcasting', True)`\n",
            "  insurance_dataset.replace({'smoker': {'yes': 0, 'no': 1}}, inplace=True)\n",
            "<ipython-input-2-362a1baf7841>:28: FutureWarning: Downcasting behavior in `replace` is deprecated and will be removed in a future version. To retain the old behavior, explicitly call `result.infer_objects(copy=False)`. To opt-in to the future behavior, set `pd.set_option('future.no_silent_downcasting', True)`\n",
            "  insurance_dataset.replace({'region': {'southeast': 0, 'southwest': 1, 'northeast': 2, 'northwest': 3}}, inplace=True)\n",
            "/usr/local/lib/python3.11/dist-packages/sklearn/utils/validation.py:2739: UserWarning: X does not have valid feature names, but LinearRegression was fitted with feature names\n",
            "  warnings.warn(\n"
          ]
        }
      ],
      "source": [
        "# Step 1: Import libraries\n",
        "import numpy as np\n",
        "import pandas as pd\n",
        "import matplotlib.pyplot as plt\n",
        "import seaborn as sns\n",
        "\n",
        "from sklearn.model_selection import train_test_split\n",
        "from sklearn.linear_model import LinearRegression\n",
        "from sklearn import metrics\n",
        "import joblib  # for saving the model\n",
        "\n",
        "# Step 2: Load dataset\n",
        "insurance_dataset = pd.read_csv('/content/insurance.csv')\n",
        "\n",
        "# Step 3: Basic info\n",
        "print(insurance_dataset.head())\n",
        "print(insurance_dataset.shape)\n",
        "print(insurance_dataset.info())\n",
        "print(insurance_dataset.isnull().sum())\n",
        "print(insurance_dataset.describe())\n",
        "\n",
        "# Step 4: Data Visualization (optional)\n",
        "# [Skipping plots here for brevity; they don't affect model saving]\n",
        "\n",
        "# Step 5: Encode categorical columns\n",
        "insurance_dataset.replace({'sex': {'male': 0, 'female': 1}}, inplace=True)\n",
        "insurance_dataset.replace({'smoker': {'yes': 0, 'no': 1}}, inplace=True)\n",
        "insurance_dataset.replace({'region': {'southeast': 0, 'southwest': 1, 'northeast': 2, 'northwest': 3}}, inplace=True)\n",
        "\n",
        "# Step 6: Split into X and Y\n",
        "X = insurance_dataset.drop(columns='charges', axis=1)\n",
        "Y = insurance_dataset['charges']\n",
        "\n",
        "# Step 7: Train/Test split\n",
        "X_train, X_test, Y_train, Y_test = train_test_split(X, Y, test_size=0.2, random_state=2)\n",
        "\n",
        "# Step 8: Train model\n",
        "regressor = LinearRegression()\n",
        "regressor.fit(X_train, Y_train)\n",
        "\n",
        "# Step 9: Evaluate\n",
        "train_prediction = regressor.predict(X_train)\n",
        "r2_train = metrics.r2_score(Y_train, train_prediction)\n",
        "print(\"R² Score (Train):\", r2_train)\n",
        "\n",
        "test_prediction = regressor.predict(X_test)\n",
        "r2_test = metrics.r2_score(Y_test, test_prediction)\n",
        "print(\"R² Score (Test):\", r2_test)\n",
        "\n",
        "# Step 10: Test with custom input\n",
        "input_data = (25, 0, 22, 1, 0, 3)  # age, sex, bmi, children, smoker, region\n",
        "input_data_np = np.asarray(input_data).reshape(1, -1)\n",
        "prediction = regressor.predict(input_data_np)\n",
        "print(\"Predicted Insurance Cost: USD\", prediction[0])\n",
        "\n",
        "# ✅ Step 11: Save the model (MAKE SURE it's in the same folder as your Flask backend)\n",
        "joblib.dump(regressor, 'insurance_model.pkl')\n",
        "print(\"✅ Model saved successfully as insurance_model.pkl\")\n"
      ]
    }
  ]
}